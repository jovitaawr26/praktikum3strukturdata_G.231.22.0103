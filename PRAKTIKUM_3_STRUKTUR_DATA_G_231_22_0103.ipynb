{
  "nbformat": 4,
  "nbformat_minor": 0,
  "metadata": {
    "colab": {
      "provenance": []
    },
    "kernelspec": {
      "name": "python3",
      "display_name": "Python 3"
    },
    "language_info": {
      "name": "python"
    }
  },
  "cells": [
    {
      "cell_type": "code",
      "execution_count": 2,
      "metadata": {
        "colab": {
          "base_uri": "https://localhost:8080/"
        },
        "id": "7FHD9WIa5XAB",
        "outputId": "521b4ed3-c385-465c-d636-e949d591df76"
      },
      "outputs": [
        {
          "output_type": "stream",
          "name": "stdout",
          "text": [
            "progamming\n"
          ]
        }
      ],
      "source": [
        "def convert_to_string(input_list):\n",
        "  #Menggabungkan karakter dalam daftar menjadi satu string\n",
        "  output_string =''.join(input_list)\n",
        "  return output_string\n",
        "\n",
        "input_list = ['p', 'r', 'o', 'g', 'a', 'm', 'm', 'i', 'n', 'g']\n",
        "\n",
        "#Konversi dan mencetak output\n",
        "output_string = convert_to_string(input_list)\n",
        "print(output_string)"
      ]
    }
  ]
}